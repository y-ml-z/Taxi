{
 "cells": [
  {
   "cell_type": "markdown",
   "metadata": {
    "colab_type": "text",
    "id": "7Nyif7luhfAH"
   },
   "source": [
    "### Taxi\n",
    "![](https://miro.medium.com/max/400/1*SzwlbwcQME6NFoVFbDCrhA.png)\n",
    "\n",
    "\n",
    "---------------------------------\n",
    "\n",
    "\n",
    " \n"
   ]
  },
  {
   "cell_type": "code",
   "execution_count": 1,
   "metadata": {},
   "outputs": [],
   "source": [
    "from collections import defaultdict\n",
    "import random, math\n",
    "import numpy as np\n",
    "\n",
    "class QLearningAgent:\n",
    "    def __init__(self, alpha, epsilon, discount, get_legal_actions):\n",
    "\n",
    "        self.get_legal_actions = get_legal_actions\n",
    "        self._qvalues = defaultdict(lambda: defaultdict(lambda: 0))\n",
    "        self.alpha = alpha\n",
    "        self.epsilon = epsilon\n",
    "        self.discount = discount\n",
    "\n",
    "    def get_qvalue(self, state, action):\n",
    "        \"\"\" Returns Q(state,action) \"\"\"\n",
    "        return self._qvalues[state][action]\n",
    "\n",
    "    def set_qvalue(self,state,action,value):\n",
    "        \"\"\" Sets the Qvalue for [state,action] to the given value \"\"\"\n",
    "        self._qvalues[state][action] = value\n",
    "\n",
    "\n",
    "    def get_value(self, state):\n",
    "        \n",
    "        possible_actions = self.get_legal_actions(state)\n",
    "\n",
    "        #If there are no legal actions, return 0.0\n",
    "        if len(possible_actions) == 0:\n",
    "            return 0.0\n",
    "\n",
    "        value = max([self.get_qvalue(state,action) for action in possible_actions])\n",
    "\n",
    "        return value\n",
    "\n",
    "    def update(self, state, action, reward, next_state):\n",
    "        \"\"\"\n",
    "           Q(s,a) := (1 - alpha) * Q(s,a) + alpha * (r + gamma * V(s'))\n",
    "        \"\"\"\n",
    "\n",
    "        #agent parameters\n",
    "        gamma = self.discount\n",
    "        learning_rate = self.alpha\n",
    "\n",
    "        qvalue_target = reward+gamma*self.get_value(next_state)\n",
    "        qvalue = learning_rate*qvalue_target+(1-learning_rate)*self.get_qvalue(state,action)\n",
    "        \n",
    "        self.set_qvalue(state, action, qvalue)\n",
    "\n",
    "    \n",
    "    def get_best_action(self, state):\n",
    "       \n",
    "        possible_actions = self.get_legal_actions(state)\n",
    "\n",
    "        #If there are no legal actions, return None\n",
    "        if len(possible_actions) == 0:\n",
    "            return None\n",
    "\n",
    "        action_value_dict = {action: self.get_qvalue(state, action) for action in possible_actions}\n",
    "        best_action = sorted(action_value_dict, key=lambda x:action_value_dict[x], reverse=True)[0]\n",
    "        return best_action\n",
    "\n",
    "    def get_action(self, state):\n",
    "       \n",
    "        # Pick Action\n",
    "        possible_actions = self.get_legal_actions(state)\n",
    "        action = None\n",
    "\n",
    "        #If there are no legal actions, return None\n",
    "        if len(possible_actions) == 0:\n",
    "            return None\n",
    "\n",
    "        #agent parameters:\n",
    "        epsilon = self.epsilon\n",
    "        exploration = random.random()\n",
    "        if exploration<epsilon:\n",
    "            chosen_action = np.random.choice(possible_actions)\n",
    "        else:\n",
    "            chosen_action = self.get_best_action(state)\n",
    "        \n",
    "        return chosen_action"
   ]
  },
  {
   "cell_type": "code",
   "execution_count": 0,
   "metadata": {
    "colab": {},
    "colab_type": "code",
    "id": "2l2aL6iBHBpH"
   },
   "outputs": [],
   "source": [
    "%load_ext autoreload\n",
    "%autoreload 2\n",
    "import numpy as np\n",
    "import matplotlib.pyplot as plt\n",
    "%matplotlib inline\n",
    "from IPython.display import clear_output\n"
   ]
  },
  {
   "cell_type": "code",
   "execution_count": 0,
   "metadata": {
    "colab": {},
    "colab_type": "code",
    "id": "Hvjb186lhfAP"
   },
   "outputs": [],
   "source": [
    "import random\n",
    "from collections import deque\n",
    "\n",
    "class ReplayBuffer(object):\n",
    "    def __init__(self, size):\n",
    "        self._storage = deque(maxlen=size)\n",
    "        self._maxsize = size\n",
    "\n",
    "\n",
    "    def __len__(self):\n",
    "        return len(self._storage)\n",
    "\n",
    "    def add(self, obs_t, action, reward, obs_tp1, done):\n",
    "\n",
    "        data = (obs_t, action, reward, obs_tp1, done)\n",
    "\n",
    "        self._storage.append(data)\n",
    "\n",
    "    def sample(self, batch_size):\n",
    "    \n",
    "        idxes = [random.choice(range(self.__len__())) for _ in range(batch_size)]# randomly generate batch_size integers to be used as indexes of samples\n",
    "\n",
    "        # collect <s,a,r,s',done> for each index\n",
    "        obs_batch = []\n",
    "        act_batch = []\n",
    "        rew_batch = []\n",
    "        next_obs_batch = []\n",
    "        done_mask = []\n",
    "        for idx in idxes:\n",
    "            obs_batch.append(self._storage[idx][0])\n",
    "            act_batch.append(self._storage[idx][1])\n",
    "            rew_batch.append(self._storage[idx][2])\n",
    "            next_obs_batch.append(self._storage[idx][3])\n",
    "            done_mask.append(self._storage[idx][4])\n",
    "            \n",
    "        \n",
    "        return np.array(obs_batch), np.array(act_batch), np.array(rew_batch), np.array(next_obs_batch), np.array(done_mask)"
   ]
  },
  {
   "cell_type": "markdown",
   "metadata": {
    "colab_type": "text",
    "id": "uFe3N_FdhfAV"
   },
   "source": [
    "Now let's use this buffer to improve training:"
   ]
  },
  {
   "cell_type": "code",
   "execution_count": 0,
   "metadata": {
    "colab": {},
    "colab_type": "code",
    "id": "KEiZuvp-hfAW"
   },
   "outputs": [],
   "source": [
    "import gym\n",
    "env = gym.make(\"Taxi-v2\")\n",
    "n_actions = env.action_space.n"
   ]
  },
  {
   "cell_type": "code",
   "execution_count": 0,
   "metadata": {
    "colab": {},
    "colab_type": "code",
    "id": "uUGYwozbhfAa"
   },
   "outputs": [],
   "source": [
    "def play_and_train_with_replay(env, agent, replay=None, \n",
    "                               t_max=10**4, replay_batch_size=32):\n",
    "    total_reward = 0.0\n",
    "    s = env.reset()\n",
    "    \n",
    "    for t in range(t_max):\n",
    "        # get agent to pick action given state s\n",
    "        a = agent.get_action(s)\n",
    "        \n",
    "        next_s, r, done, _ = env.step(a)\n",
    "\n",
    "        # update agent on current transition. Use agent.update\n",
    "        agent.update(s,a,r,next_s,)        \n",
    "\n",
    "        if replay is not None:\n",
    "            # store current <s,a,r,s'> transition in buffer\n",
    "            replay.add(s,a,r,next_s,done)\n",
    "            \n",
    "            # sample replay_batch_size random transitions from replay, \n",
    "            # then update agent on each of them in a loop\n",
    "            sample_s, sample_a, sample_s, sample_r, sample_s_next = replay.sample(replay_batch_size)\n",
    "            for i in range(replay_batch_size):\n",
    "                agent.update(sample_s[i], sample_a[i], sample_r[i],sample_s_next[i])\n",
    "                    \n",
    "        s = next_s\n",
    "        total_reward +=r\n",
    "        if done:break\n",
    "    \n",
    "    return total_reward"
   ]
  },
  {
   "cell_type": "code",
   "execution_count": 0,
   "metadata": {
    "colab": {},
    "colab_type": "code",
    "id": "z2Z97OCXhfAe"
   },
   "outputs": [],
   "source": [
    "# Create two agents: first will use experience replay, second will not.\n",
    "\n",
    "agent_baseline = QLearningAgent(alpha=0.5, epsilon=0.25, discount=0.99,\n",
    "                       get_legal_actions = lambda s: range(n_actions))\n",
    "\n",
    "agent_replay = QLearningAgent(alpha=0.5, epsilon=0.25, discount=0.99,\n",
    "                       get_legal_actions = lambda s: range(n_actions))\n",
    "\n",
    "replay = ReplayBuffer(1000)"
   ]
  },
  {
   "cell_type": "code",
   "execution_count": 0,
   "metadata": {
    "colab": {},
    "colab_type": "code",
    "id": "A6GZKIz0hfAk",
    "outputId": "ea32bf7a-824d-4851-d3be-d36e01b6c440"
   },
   "outputs": [
    {
     "name": "stdout",
     "output_type": "stream",
     "text": [
      "Baseline : eps = 2.9191091959171894e-05 mean reward = 8.8\n",
      "ExpReplay: eps = 2.9191091959171894e-05 mean reward = 7.9\n"
     ]
    },
    {
     "data": {
      "image/png": "[encoded data removed]",
      "text/plain": [
       "<Figure size 432x288 with 1 Axes>"
      ]
     },
     "metadata": {
      "tags": []
     },
     "output_type": "display_data"
    }
   ],
   "source": [
    "from IPython.display import clear_output\n",
    "from pandas import DataFrame\n",
    "moving_average = lambda x, span=100: DataFrame({'x':np.asarray(x)}).x.ewm(span=span).mean().values\n",
    "\n",
    "rewards_replay, rewards_baseline = [], []\n",
    "\n",
    "for i in range(1000):\n",
    "    rewards_replay.append(play_and_train_with_replay(env, agent_replay, replay))\n",
    "    rewards_baseline.append(play_and_train_with_replay(env, agent_baseline, replay=None))\n",
    "    \n",
    "    agent_replay.epsilon *= 0.99\n",
    "    agent_baseline.epsilon *= 0.99\n",
    "    \n",
    "    if i %100 ==0:\n",
    "        clear_output(True)\n",
    "        print('Baseline : eps =', agent_replay.epsilon, 'mean reward =', np.mean(rewards_baseline[-10:]))\n",
    "        print('ExpReplay: eps =', agent_baseline.epsilon, 'mean reward =', np.mean(rewards_replay[-10:]))\n",
    "        plt.plot(moving_average(rewards_replay), label='exp. replay')\n",
    "        plt.plot(moving_average(rewards_baseline), label='baseline')\n",
    "        plt.grid()\n",
    "        plt.legend()\n",
    "        plt.show()\n",
    "        "
   ]
  }
 ],
 "metadata": {
  "colab": {
   "collapsed_sections": [],
   "name": "Taxi.ipynb",
   "provenance": []
  },
  "kernelspec": {
   "display_name": "Python 3.6",
   "language": "python",
   "name": "python3"
  },
  "language_info": {
   "codemirror_mode": {
    "name": "ipython",
    "version": 3
   },
   "file_extension": ".py",
   "mimetype": "text/x-python",
   "name": "python",
   "nbconvert_exporter": "python",
   "pygments_lexer": "ipython3",
   "version": "3.6.9"
  }
 },
 "nbformat": 4,
 "nbformat_minor": 1
}
